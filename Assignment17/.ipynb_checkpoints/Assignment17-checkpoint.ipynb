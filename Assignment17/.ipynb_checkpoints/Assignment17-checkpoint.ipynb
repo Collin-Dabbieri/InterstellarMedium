{
 "cells": [
  {
   "cell_type": "markdown",
   "metadata": {},
   "source": [
    "# Assignment 17\n",
    "# Collin Dabbieri\n",
    "\n",
    "The ion He+ produces an emission line at 1640.4 Angstroms, and another one at 4687 Angstroms. Atomic physics demands that the ratio of 1640:4687 be 6.6. If the reddening in the AGN host galaxy is E(B-V)=0.1, what ratio of these lines do you expect to measure? Assume (not very realistically) a normal Milky Way Reddening curve with $R_V=3.1$"
   ]
  },
  {
   "cell_type": "code",
   "execution_count": 6,
   "metadata": {},
   "outputs": [],
   "source": [
    "from ccm_unred import ccm_unred"
   ]
  },
  {
   "cell_type": "code",
   "execution_count": 7,
   "metadata": {},
   "outputs": [
    {
     "data": {
      "text/plain": [
       "array([3.20098894, 0.70254684])"
      ]
     },
     "execution_count": 7,
     "metadata": {},
     "output_type": "execute_result"
    }
   ],
   "source": [
    "# ccm_unred allows you to provide negative E(B-V) if you want to redden, as opposed to deredden\n",
    "# also ccm_unred assumes an R_V of 3.1\n",
    "\n",
    "Flux_red=ccm_unred([1640.4,4687],[6.6,1.0],ebv=-0.1)\n",
    "Flux_red"
   ]
  },
  {
   "cell_type": "code",
   "execution_count": 8,
   "metadata": {},
   "outputs": [
    {
     "data": {
      "text/plain": [
       "4.556264118470575"
      ]
     },
     "execution_count": 8,
     "metadata": {},
     "output_type": "execute_result"
    }
   ],
   "source": [
    "Flux_red[0]/Flux_red[1]"
   ]
  },
  {
   "cell_type": "code",
   "execution_count": null,
   "metadata": {},
   "outputs": [],
   "source": []
  }
 ],
 "metadata": {
  "kernelspec": {
   "display_name": "Python 3",
   "language": "python",
   "name": "python3"
  },
  "language_info": {
   "codemirror_mode": {
    "name": "ipython",
    "version": 3
   },
   "file_extension": ".py",
   "mimetype": "text/x-python",
   "name": "python",
   "nbconvert_exporter": "python",
   "pygments_lexer": "ipython3",
   "version": "3.7.3"
  }
 },
 "nbformat": 4,
 "nbformat_minor": 2
}
